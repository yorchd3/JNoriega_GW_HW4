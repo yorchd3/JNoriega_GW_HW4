{
 "cells": [
  {
   "cell_type": "markdown",
   "metadata": {},
   "source": [
    "### HomeWork_ES_Pandas\n",
    "* Instructions have been included for each segment. You do not have to follow them exactly, but they are included to help you think through the steps."
   ]
  },
  {
   "cell_type": "code",
   "execution_count": 29,
   "metadata": {},
   "outputs": [],
   "source": [
    "# Dependencies and Setup\n",
    "import pandas as pd\n",
    "\n",
    "# File to Load (Remember to Change These)\n",
    "school_data_to_load = \"Resources/schools_complete.csv\"\n",
    "student_data_to_load = \"Resources/students_complete.csv\"\n",
    "\n",
    "# Read School and Student Data File and store into Pandas Data Frames\n",
    "school_data = pd.read_csv(school_data_to_load)\n",
    "student_data = pd.read_csv(student_data_to_load)\n",
    "\n",
    "# Combine the data into a single dataset\n",
    "school_data_complete = pd.merge(student_data, school_data, how=\"left\", on=[\"school_name\", \"school_name\"])"
   ]
  },
  {
   "cell_type": "markdown",
   "metadata": {},
   "source": [
    "## District Summary\n",
    "\n",
    "* Calculate the total number of schools\n",
    "\n",
    "* Calculate the total number of students\n",
    "\n",
    "* Calculate the total budget\n",
    "\n",
    "* Calculate the average math score \n",
    "\n",
    "* Calculate the average reading score\n",
    "\n",
    "* Calculate the overall passing rate (overall average score), i.e. (avg. math score + avg. reading score)/2\n",
    "\n",
    "* Calculate the percentage of students with a passing math score (70 or greater)\n",
    "\n",
    "* Calculate the percentage of students with a passing reading score (70 or greater)\n",
    "\n",
    "* Create a dataframe to hold the above results\n",
    "\n",
    "* Optional: give the displayed data cleaner formatting"
   ]
  },
  {
   "cell_type": "code",
   "execution_count": 30,
   "metadata": {},
   "outputs": [
    {
     "data": {
      "text/html": [
       "<div>\n",
       "<style scoped>\n",
       "    .dataframe tbody tr th:only-of-type {\n",
       "        vertical-align: middle;\n",
       "    }\n",
       "\n",
       "    .dataframe tbody tr th {\n",
       "        vertical-align: top;\n",
       "    }\n",
       "\n",
       "    .dataframe thead th {\n",
       "        text-align: right;\n",
       "    }\n",
       "</style>\n",
       "<table border=\"1\" class=\"dataframe\">\n",
       "  <thead>\n",
       "    <tr style=\"text-align: right;\">\n",
       "      <th></th>\n",
       "      <th>School ID</th>\n",
       "      <th>school_name</th>\n",
       "      <th>type</th>\n",
       "      <th>size</th>\n",
       "      <th>budget</th>\n",
       "    </tr>\n",
       "  </thead>\n",
       "  <tbody>\n",
       "    <tr>\n",
       "      <th>0</th>\n",
       "      <td>0</td>\n",
       "      <td>Huang High School</td>\n",
       "      <td>District</td>\n",
       "      <td>2917</td>\n",
       "      <td>1910635</td>\n",
       "    </tr>\n",
       "    <tr>\n",
       "      <th>1</th>\n",
       "      <td>1</td>\n",
       "      <td>Figueroa High School</td>\n",
       "      <td>District</td>\n",
       "      <td>2949</td>\n",
       "      <td>1884411</td>\n",
       "    </tr>\n",
       "    <tr>\n",
       "      <th>2</th>\n",
       "      <td>2</td>\n",
       "      <td>Shelton High School</td>\n",
       "      <td>Charter</td>\n",
       "      <td>1761</td>\n",
       "      <td>1056600</td>\n",
       "    </tr>\n",
       "    <tr>\n",
       "      <th>3</th>\n",
       "      <td>3</td>\n",
       "      <td>Hernandez High School</td>\n",
       "      <td>District</td>\n",
       "      <td>4635</td>\n",
       "      <td>3022020</td>\n",
       "    </tr>\n",
       "    <tr>\n",
       "      <th>4</th>\n",
       "      <td>4</td>\n",
       "      <td>Griffin High School</td>\n",
       "      <td>Charter</td>\n",
       "      <td>1468</td>\n",
       "      <td>917500</td>\n",
       "    </tr>\n",
       "  </tbody>\n",
       "</table>\n",
       "</div>"
      ],
      "text/plain": [
       "   School ID            school_name      type  size   budget\n",
       "0          0      Huang High School  District  2917  1910635\n",
       "1          1   Figueroa High School  District  2949  1884411\n",
       "2          2    Shelton High School   Charter  1761  1056600\n",
       "3          3  Hernandez High School  District  4635  3022020\n",
       "4          4    Griffin High School   Charter  1468   917500"
      ]
     },
     "execution_count": 30,
     "metadata": {},
     "output_type": "execute_result"
    }
   ],
   "source": [
    "school_data.head()"
   ]
  },
  {
   "cell_type": "code",
   "execution_count": 31,
   "metadata": {},
   "outputs": [
    {
     "data": {
      "text/html": [
       "<div>\n",
       "<style scoped>\n",
       "    .dataframe tbody tr th:only-of-type {\n",
       "        vertical-align: middle;\n",
       "    }\n",
       "\n",
       "    .dataframe tbody tr th {\n",
       "        vertical-align: top;\n",
       "    }\n",
       "\n",
       "    .dataframe thead th {\n",
       "        text-align: right;\n",
       "    }\n",
       "</style>\n",
       "<table border=\"1\" class=\"dataframe\">\n",
       "  <thead>\n",
       "    <tr style=\"text-align: right;\">\n",
       "      <th></th>\n",
       "      <th>Student ID</th>\n",
       "      <th>student_name</th>\n",
       "      <th>gender</th>\n",
       "      <th>grade</th>\n",
       "      <th>school_name</th>\n",
       "      <th>reading_score</th>\n",
       "      <th>math_score</th>\n",
       "    </tr>\n",
       "  </thead>\n",
       "  <tbody>\n",
       "    <tr>\n",
       "      <th>0</th>\n",
       "      <td>0</td>\n",
       "      <td>Paul Bradley</td>\n",
       "      <td>M</td>\n",
       "      <td>9th</td>\n",
       "      <td>Huang High School</td>\n",
       "      <td>66</td>\n",
       "      <td>79</td>\n",
       "    </tr>\n",
       "    <tr>\n",
       "      <th>1</th>\n",
       "      <td>1</td>\n",
       "      <td>Victor Smith</td>\n",
       "      <td>M</td>\n",
       "      <td>12th</td>\n",
       "      <td>Huang High School</td>\n",
       "      <td>94</td>\n",
       "      <td>61</td>\n",
       "    </tr>\n",
       "    <tr>\n",
       "      <th>2</th>\n",
       "      <td>2</td>\n",
       "      <td>Kevin Rodriguez</td>\n",
       "      <td>M</td>\n",
       "      <td>12th</td>\n",
       "      <td>Huang High School</td>\n",
       "      <td>90</td>\n",
       "      <td>60</td>\n",
       "    </tr>\n",
       "    <tr>\n",
       "      <th>3</th>\n",
       "      <td>3</td>\n",
       "      <td>Dr. Richard Scott</td>\n",
       "      <td>M</td>\n",
       "      <td>12th</td>\n",
       "      <td>Huang High School</td>\n",
       "      <td>67</td>\n",
       "      <td>58</td>\n",
       "    </tr>\n",
       "    <tr>\n",
       "      <th>4</th>\n",
       "      <td>4</td>\n",
       "      <td>Bonnie Ray</td>\n",
       "      <td>F</td>\n",
       "      <td>9th</td>\n",
       "      <td>Huang High School</td>\n",
       "      <td>97</td>\n",
       "      <td>84</td>\n",
       "    </tr>\n",
       "  </tbody>\n",
       "</table>\n",
       "</div>"
      ],
      "text/plain": [
       "   Student ID       student_name gender grade        school_name  \\\n",
       "0           0       Paul Bradley      M   9th  Huang High School   \n",
       "1           1       Victor Smith      M  12th  Huang High School   \n",
       "2           2    Kevin Rodriguez      M  12th  Huang High School   \n",
       "3           3  Dr. Richard Scott      M  12th  Huang High School   \n",
       "4           4         Bonnie Ray      F   9th  Huang High School   \n",
       "\n",
       "   reading_score  math_score  \n",
       "0             66          79  \n",
       "1             94          61  \n",
       "2             90          60  \n",
       "3             67          58  \n",
       "4             97          84  "
      ]
     },
     "execution_count": 31,
     "metadata": {},
     "output_type": "execute_result"
    }
   ],
   "source": [
    "student_data.head()\n"
   ]
  },
  {
   "cell_type": "code",
   "execution_count": 32,
   "metadata": {},
   "outputs": [
    {
     "data": {
      "text/html": [
       "<div>\n",
       "<style scoped>\n",
       "    .dataframe tbody tr th:only-of-type {\n",
       "        vertical-align: middle;\n",
       "    }\n",
       "\n",
       "    .dataframe tbody tr th {\n",
       "        vertical-align: top;\n",
       "    }\n",
       "\n",
       "    .dataframe thead th {\n",
       "        text-align: right;\n",
       "    }\n",
       "</style>\n",
       "<table border=\"1\" class=\"dataframe\">\n",
       "  <thead>\n",
       "    <tr style=\"text-align: right;\">\n",
       "      <th></th>\n",
       "      <th>Student ID</th>\n",
       "      <th>student_name</th>\n",
       "      <th>gender</th>\n",
       "      <th>grade</th>\n",
       "      <th>school_name</th>\n",
       "      <th>reading_score</th>\n",
       "      <th>math_score</th>\n",
       "      <th>School ID</th>\n",
       "      <th>type</th>\n",
       "      <th>size</th>\n",
       "      <th>budget</th>\n",
       "    </tr>\n",
       "  </thead>\n",
       "  <tbody>\n",
       "    <tr>\n",
       "      <th>0</th>\n",
       "      <td>0</td>\n",
       "      <td>Paul Bradley</td>\n",
       "      <td>M</td>\n",
       "      <td>9th</td>\n",
       "      <td>Huang High School</td>\n",
       "      <td>66</td>\n",
       "      <td>79</td>\n",
       "      <td>0</td>\n",
       "      <td>District</td>\n",
       "      <td>2917</td>\n",
       "      <td>1910635</td>\n",
       "    </tr>\n",
       "    <tr>\n",
       "      <th>1</th>\n",
       "      <td>1</td>\n",
       "      <td>Victor Smith</td>\n",
       "      <td>M</td>\n",
       "      <td>12th</td>\n",
       "      <td>Huang High School</td>\n",
       "      <td>94</td>\n",
       "      <td>61</td>\n",
       "      <td>0</td>\n",
       "      <td>District</td>\n",
       "      <td>2917</td>\n",
       "      <td>1910635</td>\n",
       "    </tr>\n",
       "    <tr>\n",
       "      <th>2</th>\n",
       "      <td>2</td>\n",
       "      <td>Kevin Rodriguez</td>\n",
       "      <td>M</td>\n",
       "      <td>12th</td>\n",
       "      <td>Huang High School</td>\n",
       "      <td>90</td>\n",
       "      <td>60</td>\n",
       "      <td>0</td>\n",
       "      <td>District</td>\n",
       "      <td>2917</td>\n",
       "      <td>1910635</td>\n",
       "    </tr>\n",
       "    <tr>\n",
       "      <th>3</th>\n",
       "      <td>3</td>\n",
       "      <td>Dr. Richard Scott</td>\n",
       "      <td>M</td>\n",
       "      <td>12th</td>\n",
       "      <td>Huang High School</td>\n",
       "      <td>67</td>\n",
       "      <td>58</td>\n",
       "      <td>0</td>\n",
       "      <td>District</td>\n",
       "      <td>2917</td>\n",
       "      <td>1910635</td>\n",
       "    </tr>\n",
       "    <tr>\n",
       "      <th>4</th>\n",
       "      <td>4</td>\n",
       "      <td>Bonnie Ray</td>\n",
       "      <td>F</td>\n",
       "      <td>9th</td>\n",
       "      <td>Huang High School</td>\n",
       "      <td>97</td>\n",
       "      <td>84</td>\n",
       "      <td>0</td>\n",
       "      <td>District</td>\n",
       "      <td>2917</td>\n",
       "      <td>1910635</td>\n",
       "    </tr>\n",
       "  </tbody>\n",
       "</table>\n",
       "</div>"
      ],
      "text/plain": [
       "   Student ID       student_name gender grade        school_name  \\\n",
       "0           0       Paul Bradley      M   9th  Huang High School   \n",
       "1           1       Victor Smith      M  12th  Huang High School   \n",
       "2           2    Kevin Rodriguez      M  12th  Huang High School   \n",
       "3           3  Dr. Richard Scott      M  12th  Huang High School   \n",
       "4           4         Bonnie Ray      F   9th  Huang High School   \n",
       "\n",
       "   reading_score  math_score  School ID      type  size   budget  \n",
       "0             66          79          0  District  2917  1910635  \n",
       "1             94          61          0  District  2917  1910635  \n",
       "2             90          60          0  District  2917  1910635  \n",
       "3             67          58          0  District  2917  1910635  \n",
       "4             97          84          0  District  2917  1910635  "
      ]
     },
     "execution_count": 32,
     "metadata": {},
     "output_type": "execute_result"
    }
   ],
   "source": [
    "school_data_complete.head()"
   ]
  },
  {
   "cell_type": "code",
   "execution_count": 33,
   "metadata": {},
   "outputs": [
    {
     "data": {
      "text/plain": [
       "15"
      ]
     },
     "execution_count": 33,
     "metadata": {},
     "output_type": "execute_result"
    }
   ],
   "source": [
    "#Total Schools\n",
    "unique_school_names = school_data_complete['school_name'].unique()\n",
    "school_count = len(unique_school_names)\n",
    "school_count"
   ]
  },
  {
   "cell_type": "code",
   "execution_count": 34,
   "metadata": {},
   "outputs": [
    {
     "data": {
      "text/plain": [
       "39170"
      ]
     },
     "execution_count": 34,
     "metadata": {},
     "output_type": "execute_result"
    }
   ],
   "source": [
    "#Total Students\n",
    "total_students = len(student_data)\n",
    "total_students"
   ]
  },
  {
   "cell_type": "code",
   "execution_count": 35,
   "metadata": {},
   "outputs": [
    {
     "data": {
      "text/plain": [
       "24649428"
      ]
     },
     "execution_count": 35,
     "metadata": {},
     "output_type": "execute_result"
    }
   ],
   "source": [
    "#Total Budget\n",
    "total_budget = school_data['budget'].sum()\n",
    "total_budget"
   ]
  },
  {
   "cell_type": "code",
   "execution_count": 36,
   "metadata": {},
   "outputs": [
    {
     "data": {
      "text/plain": [
       "78.98537145774827"
      ]
     },
     "execution_count": 36,
     "metadata": {},
     "output_type": "execute_result"
    }
   ],
   "source": [
    "#Average Math Score\n",
    "average_math = student_data['math_score'].mean()\n",
    "average_math"
   ]
  },
  {
   "cell_type": "code",
   "execution_count": 37,
   "metadata": {},
   "outputs": [
    {
     "data": {
      "text/plain": [
       "81.87784018381414"
      ]
     },
     "execution_count": 37,
     "metadata": {},
     "output_type": "execute_result"
    }
   ],
   "source": [
    "#Average Reading Score\n",
    "average_reading = student_data['reading_score'].mean()\n",
    "average_reading"
   ]
  },
  {
   "cell_type": "code",
   "execution_count": 38,
   "metadata": {},
   "outputs": [
    {
     "data": {
      "text/plain": [
       "29370"
      ]
     },
     "execution_count": 38,
     "metadata": {},
     "output_type": "execute_result"
    }
   ],
   "source": [
    "# %Passing Math\n",
    "num_pass_math = student_data.loc[student_data['math_score'] >= 70]['math_score'].count()\n",
    "num_pass_math"
   ]
  },
  {
   "cell_type": "code",
   "execution_count": 39,
   "metadata": {},
   "outputs": [
    {
     "data": {
      "text/plain": [
       "74.9808526933878"
      ]
     },
     "execution_count": 39,
     "metadata": {},
     "output_type": "execute_result"
    }
   ],
   "source": [
    "percent_math_pass = num_pass_math/total_students*100\n",
    "percent_math_pass"
   ]
  },
  {
   "cell_type": "code",
   "execution_count": 40,
   "metadata": {},
   "outputs": [
    {
     "data": {
      "text/plain": [
       "33610"
      ]
     },
     "execution_count": 40,
     "metadata": {},
     "output_type": "execute_result"
    }
   ],
   "source": [
    "# %Passing Reading\n",
    "num_pass_reading = student_data.loc[student_data['reading_score'] >= 70]['reading_score'].count()\n",
    "num_pass_reading"
   ]
  },
  {
   "cell_type": "code",
   "execution_count": 41,
   "metadata": {},
   "outputs": [
    {
     "data": {
      "text/plain": [
       "85.80546336482001"
      ]
     },
     "execution_count": 41,
     "metadata": {},
     "output_type": "execute_result"
    }
   ],
   "source": [
    "percent_reading_pass = num_pass_reading/total_students*100\n",
    "percent_reading_pass"
   ]
  },
  {
   "cell_type": "code",
   "execution_count": 42,
   "metadata": {},
   "outputs": [
    {
     "data": {
      "text/plain": [
       "80.43160582078121"
      ]
     },
     "execution_count": 42,
     "metadata": {},
     "output_type": "execute_result"
    }
   ],
   "source": [
    "# Overall passing\n",
    "overall_pass = (average_math + average_reading)/2\n",
    "overall_pass\n"
   ]
  },
  {
   "cell_type": "code",
   "execution_count": 43,
   "metadata": {},
   "outputs": [
    {
     "data": {
      "text/html": [
       "<div>\n",
       "<style scoped>\n",
       "    .dataframe tbody tr th:only-of-type {\n",
       "        vertical-align: middle;\n",
       "    }\n",
       "\n",
       "    .dataframe tbody tr th {\n",
       "        vertical-align: top;\n",
       "    }\n",
       "\n",
       "    .dataframe thead th {\n",
       "        text-align: right;\n",
       "    }\n",
       "</style>\n",
       "<table border=\"1\" class=\"dataframe\">\n",
       "  <thead>\n",
       "    <tr style=\"text-align: right;\">\n",
       "      <th></th>\n",
       "      <th>Total Schools</th>\n",
       "      <th>Total Students</th>\n",
       "      <th>Total Budget</th>\n",
       "      <th>Average Reading Score</th>\n",
       "      <th>Average Math Score</th>\n",
       "      <th>% Passing Reading</th>\n",
       "      <th>% Passing Math</th>\n",
       "      <th>Overall Passing Rate</th>\n",
       "    </tr>\n",
       "  </thead>\n",
       "  <tbody>\n",
       "    <tr>\n",
       "      <th>0</th>\n",
       "      <td>15</td>\n",
       "      <td>39170</td>\n",
       "      <td>24649428</td>\n",
       "      <td>81.87784</td>\n",
       "      <td>78.985371</td>\n",
       "      <td>85.805463</td>\n",
       "      <td>74.980853</td>\n",
       "      <td>80.431606</td>\n",
       "    </tr>\n",
       "  </tbody>\n",
       "</table>\n",
       "</div>"
      ],
      "text/plain": [
       "   Total Schools  Total Students  Total Budget  Average Reading Score  \\\n",
       "0             15           39170      24649428               81.87784   \n",
       "\n",
       "   Average Math Score  % Passing Reading  % Passing Math  Overall Passing Rate  \n",
       "0           78.985371          85.805463       74.980853             80.431606  "
      ]
     },
     "execution_count": 43,
     "metadata": {},
     "output_type": "execute_result"
    }
   ],
   "source": [
    "district_summary = pd.DataFrame({\n",
    "   \"Total Schools\": [school_count],\n",
    "   \"Total Students\": [total_students],\n",
    "   \"Total Budget\": [total_budget],\n",
    "   \"Average Reading Score\": [average_reading],\n",
    "   \"Average Math Score\": [average_math],\n",
    "   \"% Passing Reading\":[percent_reading_pass],\n",
    "   \"% Passing Math\": [percent_math_pass],\n",
    "   \"Overall Passing Rate\": [overall_pass]\n",
    "})\n",
    "district_summary"
   ]
  },
  {
   "cell_type": "code",
   "execution_count": 44,
   "metadata": {},
   "outputs": [
    {
     "data": {
      "text/html": [
       "<style  type=\"text/css\" >\n",
       "</style><table id=\"T_e5de05fa_ecfd_11e9_b953_48452077f5fa\" ><thead>    <tr>        <th class=\"blank level0\" ></th>        <th class=\"col_heading level0 col0\" >Total Schools</th>        <th class=\"col_heading level0 col1\" >Total Students</th>        <th class=\"col_heading level0 col2\" >Total Budget</th>        <th class=\"col_heading level0 col3\" >Average Reading Score</th>        <th class=\"col_heading level0 col4\" >Average Math Score</th>        <th class=\"col_heading level0 col5\" >% Passing Reading</th>        <th class=\"col_heading level0 col6\" >% Passing Math</th>        <th class=\"col_heading level0 col7\" >Overall Passing Rate</th>    </tr></thead><tbody>\n",
       "                <tr>\n",
       "                        <th id=\"T_e5de05fa_ecfd_11e9_b953_48452077f5falevel0_row0\" class=\"row_heading level0 row0\" >0</th>\n",
       "                        <td id=\"T_e5de05fa_ecfd_11e9_b953_48452077f5farow0_col0\" class=\"data row0 col0\" >15</td>\n",
       "                        <td id=\"T_e5de05fa_ecfd_11e9_b953_48452077f5farow0_col1\" class=\"data row0 col1\" >39170</td>\n",
       "                        <td id=\"T_e5de05fa_ecfd_11e9_b953_48452077f5farow0_col2\" class=\"data row0 col2\" >$24,649,428.00</td>\n",
       "                        <td id=\"T_e5de05fa_ecfd_11e9_b953_48452077f5farow0_col3\" class=\"data row0 col3\" >81.9</td>\n",
       "                        <td id=\"T_e5de05fa_ecfd_11e9_b953_48452077f5farow0_col4\" class=\"data row0 col4\" >79.0</td>\n",
       "                        <td id=\"T_e5de05fa_ecfd_11e9_b953_48452077f5farow0_col5\" class=\"data row0 col5\" >85.8055</td>\n",
       "                        <td id=\"T_e5de05fa_ecfd_11e9_b953_48452077f5farow0_col6\" class=\"data row0 col6\" >74.9809</td>\n",
       "                        <td id=\"T_e5de05fa_ecfd_11e9_b953_48452077f5farow0_col7\" class=\"data row0 col7\" >8043.2%</td>\n",
       "            </tr>\n",
       "    </tbody></table>"
      ],
      "text/plain": [
       "<pandas.io.formats.style.Styler at 0x1f0db724908>"
      ]
     },
     "execution_count": 44,
     "metadata": {},
     "output_type": "execute_result"
    }
   ],
   "source": [
    "#Format\n",
    "district_summary.style.format({\"Total Budget\": \"${:,.2f}\",\n",
    "                      \"Average Reading Score\": \"{:.1f}\",\n",
    "                      \"Average Math Score\": \"{:.1f}\",\n",
    "                      \"Overall Passing Rate\": \"{:.1%}\"})"
   ]
  },
  {
   "cell_type": "markdown",
   "metadata": {},
   "source": [
    "## School Summary"
   ]
  },
  {
   "cell_type": "markdown",
   "metadata": {},
   "source": [
    "* Create an overview table that summarizes key metrics about each school, including:\n",
    "  * School Name\n",
    "  * School Type\n",
    "  * Total Students\n",
    "  * Total School Budget\n",
    "  * Per Student Budget\n",
    "  * Average Math Score\n",
    "  * Average Reading Score\n",
    "  * % Passing Math\n",
    "  * % Passing Reading\n",
    "  * Overall Passing Rate (Average of the above two)\n",
    "  \n",
    "* Create a dataframe to hold the above results"
   ]
  },
  {
   "cell_type": "markdown",
   "metadata": {},
   "source": [
    "## Top Performing Schools (By Passing Rate)"
   ]
  },
  {
   "cell_type": "markdown",
   "metadata": {},
   "source": [
    "* Sort and display the top five schools in overall passing rate"
   ]
  },
  {
   "cell_type": "code",
   "execution_count": 45,
   "metadata": {},
   "outputs": [
    {
     "name": "stdout",
     "output_type": "stream",
     "text": [
      "<pandas.core.groupby.generic.DataFrameGroupBy object at 0x000001F0DB724F60>\n"
     ]
    }
   ],
   "source": [
    "#Total Schools\n",
    "grouped_schools = school_data_complete.set_index('school_name').groupby(['school_name'])\n",
    "print(grouped_schools)"
   ]
  },
  {
   "cell_type": "code",
   "execution_count": 46,
   "metadata": {},
   "outputs": [
    {
     "data": {
      "text/plain": [
       "Student ID        int64\n",
       "student_name     object\n",
       "gender           object\n",
       "grade            object\n",
       "reading_score     int64\n",
       "math_score        int64\n",
       "School ID         int64\n",
       "type             object\n",
       "size              int64\n",
       "budget            int64\n",
       "dtype: object"
      ]
     },
     "execution_count": 46,
     "metadata": {},
     "output_type": "execute_result"
    }
   ],
   "source": [
    "gs = grouped_schools.head()\n",
    "gs.dtypes"
   ]
  },
  {
   "cell_type": "code",
   "execution_count": 47,
   "metadata": {},
   "outputs": [],
   "source": [
    "school_type = grouped_schools['type'].unique()\n",
    "school_size = grouped_schools['size'].sum()\n",
    "tot_students = grouped_schools['Student ID'].count()\n",
    "tot_budget = grouped_schools['budget'].sum()\n",
    "stud_budget = tot_budget/school_size\n",
    "avemath = grouped_schools['math_score'].mean()\n",
    "averead = grouped_schools['reading_score'].mean()\n",
    "mathpass = school_data_complete[school_data_complete['math_score'] >= 70].groupby('school_name')['Student ID'].count()/tot_students\n",
    "readpass = school_data_complete[school_data_complete['reading_score'] >= 70].groupby('school_name')['Student ID'].count()/tot_students\n",
    "overall = (mathpass + readpass)/2"
   ]
  },
  {
   "cell_type": "code",
   "execution_count": 48,
   "metadata": {},
   "outputs": [
    {
     "data": {
      "text/plain": [
       "school_name\n",
       "Bailey High School       15549641728\n",
       "Cabrera High School       2009159448\n",
       "Figueroa High School      5557128039\n",
       "Ford High School          4831365924\n",
       "Griffin High School       1346890000\n",
       "Hernandez High School    14007062700\n",
       "Holden High School         105933149\n",
       "Huang High School         5573322295\n",
       "Johnson High School      14733628650\n",
       "Pena High School           563595396\n",
       "Rodriguez High School    10186904637\n",
       "Shelton High School       1860672600\n",
       "Thomas High School        1705517550\n",
       "Wilson High School        3012587442\n",
       "Wright High School        1888920000\n",
       "Name: budget, dtype: int64"
      ]
     },
     "execution_count": 48,
     "metadata": {},
     "output_type": "execute_result"
    }
   ],
   "source": [
    "tot_budget"
   ]
  },
  {
   "cell_type": "code",
   "execution_count": 49,
   "metadata": {},
   "outputs": [
    {
     "data": {
      "text/html": [
       "<div>\n",
       "<style scoped>\n",
       "    .dataframe tbody tr th:only-of-type {\n",
       "        vertical-align: middle;\n",
       "    }\n",
       "\n",
       "    .dataframe tbody tr th {\n",
       "        vertical-align: top;\n",
       "    }\n",
       "\n",
       "    .dataframe thead th {\n",
       "        text-align: right;\n",
       "    }\n",
       "</style>\n",
       "<table border=\"1\" class=\"dataframe\">\n",
       "  <thead>\n",
       "    <tr style=\"text-align: right;\">\n",
       "      <th></th>\n",
       "      <th>School Type</th>\n",
       "      <th>Total Students</th>\n",
       "      <th>Total School Budget</th>\n",
       "      <th>Per Student Budget</th>\n",
       "      <th>Average Math Score</th>\n",
       "      <th>Average Reading Score</th>\n",
       "      <th>% Passing Math</th>\n",
       "      <th>% Passing Reading</th>\n",
       "      <th>% Overall Passing Rate</th>\n",
       "    </tr>\n",
       "    <tr>\n",
       "      <th>school_name</th>\n",
       "      <th></th>\n",
       "      <th></th>\n",
       "      <th></th>\n",
       "      <th></th>\n",
       "      <th></th>\n",
       "      <th></th>\n",
       "      <th></th>\n",
       "      <th></th>\n",
       "      <th></th>\n",
       "    </tr>\n",
       "  </thead>\n",
       "  <tbody>\n",
       "    <tr>\n",
       "      <th>Bailey High School</th>\n",
       "      <td>[District]</td>\n",
       "      <td>4976</td>\n",
       "      <td>15549641728</td>\n",
       "      <td>628.0</td>\n",
       "      <td>77.048432</td>\n",
       "      <td>81.033963</td>\n",
       "      <td>0.666801</td>\n",
       "      <td>0.819333</td>\n",
       "      <td>0.743067</td>\n",
       "    </tr>\n",
       "    <tr>\n",
       "      <th>Cabrera High School</th>\n",
       "      <td>[Charter]</td>\n",
       "      <td>1858</td>\n",
       "      <td>2009159448</td>\n",
       "      <td>582.0</td>\n",
       "      <td>83.061895</td>\n",
       "      <td>83.975780</td>\n",
       "      <td>0.941335</td>\n",
       "      <td>0.970398</td>\n",
       "      <td>0.955867</td>\n",
       "    </tr>\n",
       "    <tr>\n",
       "      <th>Figueroa High School</th>\n",
       "      <td>[District]</td>\n",
       "      <td>2949</td>\n",
       "      <td>5557128039</td>\n",
       "      <td>639.0</td>\n",
       "      <td>76.711767</td>\n",
       "      <td>81.158020</td>\n",
       "      <td>0.659885</td>\n",
       "      <td>0.807392</td>\n",
       "      <td>0.733639</td>\n",
       "    </tr>\n",
       "    <tr>\n",
       "      <th>Ford High School</th>\n",
       "      <td>[District]</td>\n",
       "      <td>2739</td>\n",
       "      <td>4831365924</td>\n",
       "      <td>644.0</td>\n",
       "      <td>77.102592</td>\n",
       "      <td>80.746258</td>\n",
       "      <td>0.683096</td>\n",
       "      <td>0.792990</td>\n",
       "      <td>0.738043</td>\n",
       "    </tr>\n",
       "    <tr>\n",
       "      <th>Griffin High School</th>\n",
       "      <td>[Charter]</td>\n",
       "      <td>1468</td>\n",
       "      <td>1346890000</td>\n",
       "      <td>625.0</td>\n",
       "      <td>83.351499</td>\n",
       "      <td>83.816757</td>\n",
       "      <td>0.933924</td>\n",
       "      <td>0.971390</td>\n",
       "      <td>0.952657</td>\n",
       "    </tr>\n",
       "  </tbody>\n",
       "</table>\n",
       "</div>"
      ],
      "text/plain": [
       "                     School Type  Total Students  Total School Budget  \\\n",
       "school_name                                                             \n",
       "Bailey High School    [District]            4976          15549641728   \n",
       "Cabrera High School    [Charter]            1858           2009159448   \n",
       "Figueroa High School  [District]            2949           5557128039   \n",
       "Ford High School      [District]            2739           4831365924   \n",
       "Griffin High School    [Charter]            1468           1346890000   \n",
       "\n",
       "                      Per Student Budget  Average Math Score  \\\n",
       "school_name                                                    \n",
       "Bailey High School                 628.0           77.048432   \n",
       "Cabrera High School                582.0           83.061895   \n",
       "Figueroa High School               639.0           76.711767   \n",
       "Ford High School                   644.0           77.102592   \n",
       "Griffin High School                625.0           83.351499   \n",
       "\n",
       "                      Average Reading Score  % Passing Math  \\\n",
       "school_name                                                   \n",
       "Bailey High School                81.033963        0.666801   \n",
       "Cabrera High School               83.975780        0.941335   \n",
       "Figueroa High School              81.158020        0.659885   \n",
       "Ford High School                  80.746258        0.683096   \n",
       "Griffin High School               83.816757        0.933924   \n",
       "\n",
       "                      % Passing Reading  % Overall Passing Rate  \n",
       "school_name                                                      \n",
       "Bailey High School             0.819333                0.743067  \n",
       "Cabrera High School            0.970398                0.955867  \n",
       "Figueroa High School           0.807392                0.733639  \n",
       "Ford High School               0.792990                0.738043  \n",
       "Griffin High School            0.971390                0.952657  "
      ]
     },
     "execution_count": 49,
     "metadata": {},
     "output_type": "execute_result"
    }
   ],
   "source": [
    "summary_school_table = pd.DataFrame({\"School Type\": school_type, \n",
    "                                     \"Total Students\": tot_students, \"Total School Budget\": tot_budget, \n",
    "                                     \"Per Student Budget\": stud_budget, \"Average Math Score\": avemath, \n",
    "                                     \"Average Reading Score\": averead, \"% Passing Math\": mathpass,\n",
    "                                    \"% Passing Reading\": readpass, \"% Overall Passing Rate\": overall\n",
    "                                    })\n",
    "summary_school_table.head()"
   ]
  },
  {
   "cell_type": "code",
   "execution_count": 50,
   "metadata": {
    "scrolled": true
   },
   "outputs": [
    {
     "name": "stdout",
     "output_type": "stream",
     "text": [
      "School Type                object\n",
      "Total Students              int64\n",
      "Total School Budget         int64\n",
      "Per Student Budget        float64\n",
      "Average Math Score        float64\n",
      "Average Reading Score     float64\n",
      "% Passing Math            float64\n",
      "% Passing Reading         float64\n",
      "% Overall Passing Rate    float64\n",
      "dtype: object\n"
     ]
    }
   ],
   "source": [
    "summary_school_table = pd.DataFrame({\n",
    "    \"School Type\": school_type, \n",
    "    \"Total Students\": tot_students, \n",
    "    \"Total School Budget\": tot_budget, \n",
    "    \"Per Student Budget\": stud_budget, \n",
    "    \"Average Math Score\": avemath, \n",
    "    \"Average Reading Score\": averead, \n",
    "    \"% Passing Math\": mathpass,\n",
    "    \"% Passing Reading\": readpass, \n",
    "    \"% Overall Passing Rate\": overall\n",
    "})\n",
    "\n",
    "print(summary_school_table.dtypes)\n",
    "#summary_school_table"
   ]
  },
  {
   "cell_type": "code",
   "execution_count": 51,
   "metadata": {},
   "outputs": [],
   "source": [
    "summary_school_table = summary_school_table[['School Type', \n",
    "                          'Total Students', \n",
    "                          'Total School Budget', \n",
    "                          'Per Student Budget', \n",
    "                          'Average Math Score', \n",
    "                          'Average Reading Score',\n",
    "                          '% Passing Math',\n",
    "                          '% Passing Reading',\n",
    "                          '% Overall Passing Rate']]"
   ]
  },
  {
   "cell_type": "code",
   "execution_count": 52,
   "metadata": {},
   "outputs": [],
   "source": [
    "best5 = summary_school_table.sort_values(\"% Overall Passing Rate\", ascending = False)"
   ]
  },
  {
   "cell_type": "code",
   "execution_count": 53,
   "metadata": {},
   "outputs": [
    {
     "data": {
      "text/html": [
       "<style  type=\"text/css\" >\n",
       "</style><table id=\"T_e60ab4b8_ecfd_11e9_88c2_48452077f5fa\" ><thead>    <tr>        <th class=\"blank level0\" ></th>        <th class=\"col_heading level0 col0\" >School Type</th>        <th class=\"col_heading level0 col1\" >Total Students</th>        <th class=\"col_heading level0 col2\" >Total School Budget</th>        <th class=\"col_heading level0 col3\" >Per Student Budget</th>        <th class=\"col_heading level0 col4\" >Average Math Score</th>        <th class=\"col_heading level0 col5\" >Average Reading Score</th>        <th class=\"col_heading level0 col6\" >% Passing Math</th>        <th class=\"col_heading level0 col7\" >% Passing Reading</th>        <th class=\"col_heading level0 col8\" >% Overall Passing Rate</th>    </tr>    <tr>        <th class=\"index_name level0\" >school_name</th>        <th class=\"blank\" ></th>        <th class=\"blank\" ></th>        <th class=\"blank\" ></th>        <th class=\"blank\" ></th>        <th class=\"blank\" ></th>        <th class=\"blank\" ></th>        <th class=\"blank\" ></th>        <th class=\"blank\" ></th>        <th class=\"blank\" ></th>    </tr></thead><tbody>\n",
       "                <tr>\n",
       "                        <th id=\"T_e60ab4b8_ecfd_11e9_88c2_48452077f5falevel0_row0\" class=\"row_heading level0 row0\" >Cabrera High School</th>\n",
       "                        <td id=\"T_e60ab4b8_ecfd_11e9_88c2_48452077f5farow0_col0\" class=\"data row0 col0\" >['Charter']</td>\n",
       "                        <td id=\"T_e60ab4b8_ecfd_11e9_88c2_48452077f5farow0_col1\" class=\"data row0 col1\" >1,858</td>\n",
       "                        <td id=\"T_e60ab4b8_ecfd_11e9_88c2_48452077f5farow0_col2\" class=\"data row0 col2\" >$2,009,159,448</td>\n",
       "                        <td id=\"T_e60ab4b8_ecfd_11e9_88c2_48452077f5farow0_col3\" class=\"data row0 col3\" >$582</td>\n",
       "                        <td id=\"T_e60ab4b8_ecfd_11e9_88c2_48452077f5farow0_col4\" class=\"data row0 col4\" >83.1</td>\n",
       "                        <td id=\"T_e60ab4b8_ecfd_11e9_88c2_48452077f5farow0_col5\" class=\"data row0 col5\" >84.0</td>\n",
       "                        <td id=\"T_e60ab4b8_ecfd_11e9_88c2_48452077f5farow0_col6\" class=\"data row0 col6\" >94.1%</td>\n",
       "                        <td id=\"T_e60ab4b8_ecfd_11e9_88c2_48452077f5farow0_col7\" class=\"data row0 col7\" >97.0%</td>\n",
       "                        <td id=\"T_e60ab4b8_ecfd_11e9_88c2_48452077f5farow0_col8\" class=\"data row0 col8\" >95.6%</td>\n",
       "            </tr>\n",
       "            <tr>\n",
       "                        <th id=\"T_e60ab4b8_ecfd_11e9_88c2_48452077f5falevel0_row1\" class=\"row_heading level0 row1\" >Thomas High School</th>\n",
       "                        <td id=\"T_e60ab4b8_ecfd_11e9_88c2_48452077f5farow1_col0\" class=\"data row1 col0\" >['Charter']</td>\n",
       "                        <td id=\"T_e60ab4b8_ecfd_11e9_88c2_48452077f5farow1_col1\" class=\"data row1 col1\" >1,635</td>\n",
       "                        <td id=\"T_e60ab4b8_ecfd_11e9_88c2_48452077f5farow1_col2\" class=\"data row1 col2\" >$1,705,517,550</td>\n",
       "                        <td id=\"T_e60ab4b8_ecfd_11e9_88c2_48452077f5farow1_col3\" class=\"data row1 col3\" >$638</td>\n",
       "                        <td id=\"T_e60ab4b8_ecfd_11e9_88c2_48452077f5farow1_col4\" class=\"data row1 col4\" >83.4</td>\n",
       "                        <td id=\"T_e60ab4b8_ecfd_11e9_88c2_48452077f5farow1_col5\" class=\"data row1 col5\" >83.8</td>\n",
       "                        <td id=\"T_e60ab4b8_ecfd_11e9_88c2_48452077f5farow1_col6\" class=\"data row1 col6\" >93.3%</td>\n",
       "                        <td id=\"T_e60ab4b8_ecfd_11e9_88c2_48452077f5farow1_col7\" class=\"data row1 col7\" >97.3%</td>\n",
       "                        <td id=\"T_e60ab4b8_ecfd_11e9_88c2_48452077f5farow1_col8\" class=\"data row1 col8\" >95.3%</td>\n",
       "            </tr>\n",
       "            <tr>\n",
       "                        <th id=\"T_e60ab4b8_ecfd_11e9_88c2_48452077f5falevel0_row2\" class=\"row_heading level0 row2\" >Pena High School</th>\n",
       "                        <td id=\"T_e60ab4b8_ecfd_11e9_88c2_48452077f5farow2_col0\" class=\"data row2 col0\" >['Charter']</td>\n",
       "                        <td id=\"T_e60ab4b8_ecfd_11e9_88c2_48452077f5farow2_col1\" class=\"data row2 col1\" >962</td>\n",
       "                        <td id=\"T_e60ab4b8_ecfd_11e9_88c2_48452077f5farow2_col2\" class=\"data row2 col2\" >$563,595,396</td>\n",
       "                        <td id=\"T_e60ab4b8_ecfd_11e9_88c2_48452077f5farow2_col3\" class=\"data row2 col3\" >$609</td>\n",
       "                        <td id=\"T_e60ab4b8_ecfd_11e9_88c2_48452077f5farow2_col4\" class=\"data row2 col4\" >83.8</td>\n",
       "                        <td id=\"T_e60ab4b8_ecfd_11e9_88c2_48452077f5farow2_col5\" class=\"data row2 col5\" >84.0</td>\n",
       "                        <td id=\"T_e60ab4b8_ecfd_11e9_88c2_48452077f5farow2_col6\" class=\"data row2 col6\" >94.6%</td>\n",
       "                        <td id=\"T_e60ab4b8_ecfd_11e9_88c2_48452077f5farow2_col7\" class=\"data row2 col7\" >95.9%</td>\n",
       "                        <td id=\"T_e60ab4b8_ecfd_11e9_88c2_48452077f5farow2_col8\" class=\"data row2 col8\" >95.3%</td>\n",
       "            </tr>\n",
       "            <tr>\n",
       "                        <th id=\"T_e60ab4b8_ecfd_11e9_88c2_48452077f5falevel0_row3\" class=\"row_heading level0 row3\" >Griffin High School</th>\n",
       "                        <td id=\"T_e60ab4b8_ecfd_11e9_88c2_48452077f5farow3_col0\" class=\"data row3 col0\" >['Charter']</td>\n",
       "                        <td id=\"T_e60ab4b8_ecfd_11e9_88c2_48452077f5farow3_col1\" class=\"data row3 col1\" >1,468</td>\n",
       "                        <td id=\"T_e60ab4b8_ecfd_11e9_88c2_48452077f5farow3_col2\" class=\"data row3 col2\" >$1,346,890,000</td>\n",
       "                        <td id=\"T_e60ab4b8_ecfd_11e9_88c2_48452077f5farow3_col3\" class=\"data row3 col3\" >$625</td>\n",
       "                        <td id=\"T_e60ab4b8_ecfd_11e9_88c2_48452077f5farow3_col4\" class=\"data row3 col4\" >83.4</td>\n",
       "                        <td id=\"T_e60ab4b8_ecfd_11e9_88c2_48452077f5farow3_col5\" class=\"data row3 col5\" >83.8</td>\n",
       "                        <td id=\"T_e60ab4b8_ecfd_11e9_88c2_48452077f5farow3_col6\" class=\"data row3 col6\" >93.4%</td>\n",
       "                        <td id=\"T_e60ab4b8_ecfd_11e9_88c2_48452077f5farow3_col7\" class=\"data row3 col7\" >97.1%</td>\n",
       "                        <td id=\"T_e60ab4b8_ecfd_11e9_88c2_48452077f5farow3_col8\" class=\"data row3 col8\" >95.3%</td>\n",
       "            </tr>\n",
       "            <tr>\n",
       "                        <th id=\"T_e60ab4b8_ecfd_11e9_88c2_48452077f5falevel0_row4\" class=\"row_heading level0 row4\" >Wilson High School</th>\n",
       "                        <td id=\"T_e60ab4b8_ecfd_11e9_88c2_48452077f5farow4_col0\" class=\"data row4 col0\" >['Charter']</td>\n",
       "                        <td id=\"T_e60ab4b8_ecfd_11e9_88c2_48452077f5farow4_col1\" class=\"data row4 col1\" >2,283</td>\n",
       "                        <td id=\"T_e60ab4b8_ecfd_11e9_88c2_48452077f5farow4_col2\" class=\"data row4 col2\" >$3,012,587,442</td>\n",
       "                        <td id=\"T_e60ab4b8_ecfd_11e9_88c2_48452077f5farow4_col3\" class=\"data row4 col3\" >$578</td>\n",
       "                        <td id=\"T_e60ab4b8_ecfd_11e9_88c2_48452077f5farow4_col4\" class=\"data row4 col4\" >83.3</td>\n",
       "                        <td id=\"T_e60ab4b8_ecfd_11e9_88c2_48452077f5farow4_col5\" class=\"data row4 col5\" >84.0</td>\n",
       "                        <td id=\"T_e60ab4b8_ecfd_11e9_88c2_48452077f5farow4_col6\" class=\"data row4 col6\" >93.9%</td>\n",
       "                        <td id=\"T_e60ab4b8_ecfd_11e9_88c2_48452077f5farow4_col7\" class=\"data row4 col7\" >96.5%</td>\n",
       "                        <td id=\"T_e60ab4b8_ecfd_11e9_88c2_48452077f5farow4_col8\" class=\"data row4 col8\" >95.2%</td>\n",
       "            </tr>\n",
       "    </tbody></table>"
      ],
      "text/plain": [
       "<pandas.io.formats.style.Styler at 0x1f0d9ca7128>"
      ]
     },
     "execution_count": 53,
     "metadata": {},
     "output_type": "execute_result"
    }
   ],
   "source": [
    "best5.head().style.format({'Total Students': '{:,}', \n",
    "                          \"Total School Budget\": \"${:,}\", \n",
    "                          \"Per Student Budget\": \"${:.0f}\",\n",
    "                          'Average Math Score': \"{:.1f}\", \n",
    "                          'Average Reading Score': \"{:.1f}\", \n",
    "                          \"% Passing Math\": \"{:.1%}\", \n",
    "                          \"% Passing Reading\": \"{:.1%}\", \n",
    "                          \"% Overall Passing Rate\": \"{:.1%}\"})"
   ]
  },
  {
   "cell_type": "markdown",
   "metadata": {},
   "source": [
    "## Bottom Performing Schools (By Passing Rate)"
   ]
  },
  {
   "cell_type": "markdown",
   "metadata": {},
   "source": [
    "* Sort and display the five worst-performing schools"
   ]
  },
  {
   "cell_type": "code",
   "execution_count": 54,
   "metadata": {},
   "outputs": [],
   "source": [
    "worst5 = summary_school_table.sort_values(\"% Overall Passing Rate\", ascending = True)"
   ]
  },
  {
   "cell_type": "code",
   "execution_count": 55,
   "metadata": {},
   "outputs": [
    {
     "data": {
      "text/html": [
       "<style  type=\"text/css\" >\n",
       "</style><table id=\"T_e610ce64_ecfd_11e9_8f20_48452077f5fa\" ><thead>    <tr>        <th class=\"blank level0\" ></th>        <th class=\"col_heading level0 col0\" >School Type</th>        <th class=\"col_heading level0 col1\" >Total Students</th>        <th class=\"col_heading level0 col2\" >Total School Budget</th>        <th class=\"col_heading level0 col3\" >Per Student Budget</th>        <th class=\"col_heading level0 col4\" >Average Math Score</th>        <th class=\"col_heading level0 col5\" >Average Reading Score</th>        <th class=\"col_heading level0 col6\" >% Passing Math</th>        <th class=\"col_heading level0 col7\" >% Passing Reading</th>        <th class=\"col_heading level0 col8\" >% Overall Passing Rate</th>    </tr>    <tr>        <th class=\"index_name level0\" >school_name</th>        <th class=\"blank\" ></th>        <th class=\"blank\" ></th>        <th class=\"blank\" ></th>        <th class=\"blank\" ></th>        <th class=\"blank\" ></th>        <th class=\"blank\" ></th>        <th class=\"blank\" ></th>        <th class=\"blank\" ></th>        <th class=\"blank\" ></th>    </tr></thead><tbody>\n",
       "                <tr>\n",
       "                        <th id=\"T_e610ce64_ecfd_11e9_8f20_48452077f5falevel0_row0\" class=\"row_heading level0 row0\" >Rodriguez High School</th>\n",
       "                        <td id=\"T_e610ce64_ecfd_11e9_8f20_48452077f5farow0_col0\" class=\"data row0 col0\" >['District']</td>\n",
       "                        <td id=\"T_e610ce64_ecfd_11e9_8f20_48452077f5farow0_col1\" class=\"data row0 col1\" >3,999</td>\n",
       "                        <td id=\"T_e610ce64_ecfd_11e9_8f20_48452077f5farow0_col2\" class=\"data row0 col2\" >$10,186,904,637</td>\n",
       "                        <td id=\"T_e610ce64_ecfd_11e9_8f20_48452077f5farow0_col3\" class=\"data row0 col3\" >$637</td>\n",
       "                        <td id=\"T_e610ce64_ecfd_11e9_8f20_48452077f5farow0_col4\" class=\"data row0 col4\" >76.8427</td>\n",
       "                        <td id=\"T_e610ce64_ecfd_11e9_8f20_48452077f5farow0_col5\" class=\"data row0 col5\" >80.7447</td>\n",
       "                        <td id=\"T_e610ce64_ecfd_11e9_8f20_48452077f5farow0_col6\" class=\"data row0 col6\" >66.4%</td>\n",
       "                        <td id=\"T_e610ce64_ecfd_11e9_8f20_48452077f5farow0_col7\" class=\"data row0 col7\" >80.2%</td>\n",
       "                        <td id=\"T_e610ce64_ecfd_11e9_8f20_48452077f5farow0_col8\" class=\"data row0 col8\" >73.3%</td>\n",
       "            </tr>\n",
       "            <tr>\n",
       "                        <th id=\"T_e610ce64_ecfd_11e9_8f20_48452077f5falevel0_row1\" class=\"row_heading level0 row1\" >Figueroa High School</th>\n",
       "                        <td id=\"T_e610ce64_ecfd_11e9_8f20_48452077f5farow1_col0\" class=\"data row1 col0\" >['District']</td>\n",
       "                        <td id=\"T_e610ce64_ecfd_11e9_8f20_48452077f5farow1_col1\" class=\"data row1 col1\" >2,949</td>\n",
       "                        <td id=\"T_e610ce64_ecfd_11e9_8f20_48452077f5farow1_col2\" class=\"data row1 col2\" >$5,557,128,039</td>\n",
       "                        <td id=\"T_e610ce64_ecfd_11e9_8f20_48452077f5farow1_col3\" class=\"data row1 col3\" >$639</td>\n",
       "                        <td id=\"T_e610ce64_ecfd_11e9_8f20_48452077f5farow1_col4\" class=\"data row1 col4\" >76.7118</td>\n",
       "                        <td id=\"T_e610ce64_ecfd_11e9_8f20_48452077f5farow1_col5\" class=\"data row1 col5\" >81.158</td>\n",
       "                        <td id=\"T_e610ce64_ecfd_11e9_8f20_48452077f5farow1_col6\" class=\"data row1 col6\" >66.0%</td>\n",
       "                        <td id=\"T_e610ce64_ecfd_11e9_8f20_48452077f5farow1_col7\" class=\"data row1 col7\" >80.7%</td>\n",
       "                        <td id=\"T_e610ce64_ecfd_11e9_8f20_48452077f5farow1_col8\" class=\"data row1 col8\" >73.4%</td>\n",
       "            </tr>\n",
       "            <tr>\n",
       "                        <th id=\"T_e610ce64_ecfd_11e9_8f20_48452077f5falevel0_row2\" class=\"row_heading level0 row2\" >Huang High School</th>\n",
       "                        <td id=\"T_e610ce64_ecfd_11e9_8f20_48452077f5farow2_col0\" class=\"data row2 col0\" >['District']</td>\n",
       "                        <td id=\"T_e610ce64_ecfd_11e9_8f20_48452077f5farow2_col1\" class=\"data row2 col1\" >2,917</td>\n",
       "                        <td id=\"T_e610ce64_ecfd_11e9_8f20_48452077f5farow2_col2\" class=\"data row2 col2\" >$5,573,322,295</td>\n",
       "                        <td id=\"T_e610ce64_ecfd_11e9_8f20_48452077f5farow2_col3\" class=\"data row2 col3\" >$655</td>\n",
       "                        <td id=\"T_e610ce64_ecfd_11e9_8f20_48452077f5farow2_col4\" class=\"data row2 col4\" >76.6294</td>\n",
       "                        <td id=\"T_e610ce64_ecfd_11e9_8f20_48452077f5farow2_col5\" class=\"data row2 col5\" >81.1827</td>\n",
       "                        <td id=\"T_e610ce64_ecfd_11e9_8f20_48452077f5farow2_col6\" class=\"data row2 col6\" >65.7%</td>\n",
       "                        <td id=\"T_e610ce64_ecfd_11e9_8f20_48452077f5farow2_col7\" class=\"data row2 col7\" >81.3%</td>\n",
       "                        <td id=\"T_e610ce64_ecfd_11e9_8f20_48452077f5farow2_col8\" class=\"data row2 col8\" >73.5%</td>\n",
       "            </tr>\n",
       "            <tr>\n",
       "                        <th id=\"T_e610ce64_ecfd_11e9_8f20_48452077f5falevel0_row3\" class=\"row_heading level0 row3\" >Johnson High School</th>\n",
       "                        <td id=\"T_e610ce64_ecfd_11e9_8f20_48452077f5farow3_col0\" class=\"data row3 col0\" >['District']</td>\n",
       "                        <td id=\"T_e610ce64_ecfd_11e9_8f20_48452077f5farow3_col1\" class=\"data row3 col1\" >4,761</td>\n",
       "                        <td id=\"T_e610ce64_ecfd_11e9_8f20_48452077f5farow3_col2\" class=\"data row3 col2\" >$14,733,628,650</td>\n",
       "                        <td id=\"T_e610ce64_ecfd_11e9_8f20_48452077f5farow3_col3\" class=\"data row3 col3\" >$650</td>\n",
       "                        <td id=\"T_e610ce64_ecfd_11e9_8f20_48452077f5farow3_col4\" class=\"data row3 col4\" >77.0725</td>\n",
       "                        <td id=\"T_e610ce64_ecfd_11e9_8f20_48452077f5farow3_col5\" class=\"data row3 col5\" >80.9664</td>\n",
       "                        <td id=\"T_e610ce64_ecfd_11e9_8f20_48452077f5farow3_col6\" class=\"data row3 col6\" >66.1%</td>\n",
       "                        <td id=\"T_e610ce64_ecfd_11e9_8f20_48452077f5farow3_col7\" class=\"data row3 col7\" >81.2%</td>\n",
       "                        <td id=\"T_e610ce64_ecfd_11e9_8f20_48452077f5farow3_col8\" class=\"data row3 col8\" >73.6%</td>\n",
       "            </tr>\n",
       "            <tr>\n",
       "                        <th id=\"T_e610ce64_ecfd_11e9_8f20_48452077f5falevel0_row4\" class=\"row_heading level0 row4\" >Ford High School</th>\n",
       "                        <td id=\"T_e610ce64_ecfd_11e9_8f20_48452077f5farow4_col0\" class=\"data row4 col0\" >['District']</td>\n",
       "                        <td id=\"T_e610ce64_ecfd_11e9_8f20_48452077f5farow4_col1\" class=\"data row4 col1\" >2,739</td>\n",
       "                        <td id=\"T_e610ce64_ecfd_11e9_8f20_48452077f5farow4_col2\" class=\"data row4 col2\" >$4,831,365,924</td>\n",
       "                        <td id=\"T_e610ce64_ecfd_11e9_8f20_48452077f5farow4_col3\" class=\"data row4 col3\" >$644</td>\n",
       "                        <td id=\"T_e610ce64_ecfd_11e9_8f20_48452077f5farow4_col4\" class=\"data row4 col4\" >77.1026</td>\n",
       "                        <td id=\"T_e610ce64_ecfd_11e9_8f20_48452077f5farow4_col5\" class=\"data row4 col5\" >80.7463</td>\n",
       "                        <td id=\"T_e610ce64_ecfd_11e9_8f20_48452077f5farow4_col6\" class=\"data row4 col6\" >68.3%</td>\n",
       "                        <td id=\"T_e610ce64_ecfd_11e9_8f20_48452077f5farow4_col7\" class=\"data row4 col7\" >79.3%</td>\n",
       "                        <td id=\"T_e610ce64_ecfd_11e9_8f20_48452077f5farow4_col8\" class=\"data row4 col8\" >73.8%</td>\n",
       "            </tr>\n",
       "    </tbody></table>"
      ],
      "text/plain": [
       "<pandas.io.formats.style.Styler at 0x1f0d9ca7b38>"
      ]
     },
     "execution_count": 55,
     "metadata": {},
     "output_type": "execute_result"
    }
   ],
   "source": [
    "worst5.head().style.format({'Total Students': '{:,}',\n",
    "                           \"Total School Budget\": \"${:,}\", \n",
    "                           \"Per Student Budget\": \"${:.0f}\", \n",
    "                           \"% Passing Math\": \"{:.1%}\", \n",
    "                           \"% Passing Reading\": \"{:.1%}\", \n",
    "                           \"% Overall Passing Rate\": \"{:.1%}\"})"
   ]
  },
  {
   "cell_type": "markdown",
   "metadata": {
    "collapsed": true
   },
   "source": [
    "## Math Scores by Grade"
   ]
  },
  {
   "cell_type": "markdown",
   "metadata": {},
   "source": [
    "* Create a table that lists the average Reading Score for students of each grade level (9th, 10th, 11th, 12th) at each school.\n",
    "\n",
    "  * Create a pandas series for each grade. Hint: use a conditional statement.\n",
    "  \n",
    "  * Group each series by school\n",
    "  \n",
    "  * Combine the series into a dataframe\n",
    "  \n",
    "  * Optional: give the displayed data cleaner formatting"
   ]
  },
  {
   "cell_type": "code",
   "execution_count": 57,
   "metadata": {},
   "outputs": [],
   "source": [
    "m_ninth_grade = student_data.loc[student_data[\"grade\"] == \"9th\"].groupby([\"school_name\"])[\"math_score\"].mean()\n",
    "m_tenth_grade = student_data.loc[student_data[\"grade\"] == \"10th\"].groupby([\"school_name\"])[\"math_score\"].mean()\n",
    "m_eleventh_grade = student_data.loc[student_data[\"grade\"] == \"11th\"].groupby([\"school_name\"])[\"math_score\"].mean()\n",
    "m_twelfth_grade = student_data.loc[student_data[\"grade\"] == \"12th\"].groupby([\"school_name\"])[\"math_score\"].mean()\n"
   ]
  },
  {
   "cell_type": "code",
   "execution_count": 58,
   "metadata": {},
   "outputs": [
    {
     "data": {
      "text/html": [
       "<div>\n",
       "<style scoped>\n",
       "    .dataframe tbody tr th:only-of-type {\n",
       "        vertical-align: middle;\n",
       "    }\n",
       "\n",
       "    .dataframe tbody tr th {\n",
       "        vertical-align: top;\n",
       "    }\n",
       "\n",
       "    .dataframe thead th {\n",
       "        text-align: right;\n",
       "    }\n",
       "</style>\n",
       "<table border=\"1\" class=\"dataframe\">\n",
       "  <thead>\n",
       "    <tr style=\"text-align: right;\">\n",
       "      <th></th>\n",
       "      <th>9th</th>\n",
       "      <th>10th</th>\n",
       "      <th>11th</th>\n",
       "      <th>12th</th>\n",
       "    </tr>\n",
       "    <tr>\n",
       "      <th>school_name</th>\n",
       "      <th></th>\n",
       "      <th></th>\n",
       "      <th></th>\n",
       "      <th></th>\n",
       "    </tr>\n",
       "  </thead>\n",
       "  <tbody>\n",
       "    <tr>\n",
       "      <th>Bailey High School</th>\n",
       "      <td>77.083676</td>\n",
       "      <td>76.996772</td>\n",
       "      <td>77.515588</td>\n",
       "      <td>76.492218</td>\n",
       "    </tr>\n",
       "    <tr>\n",
       "      <th>Cabrera High School</th>\n",
       "      <td>83.094697</td>\n",
       "      <td>83.154506</td>\n",
       "      <td>82.765560</td>\n",
       "      <td>83.277487</td>\n",
       "    </tr>\n",
       "    <tr>\n",
       "      <th>Figueroa High School</th>\n",
       "      <td>76.403037</td>\n",
       "      <td>76.539974</td>\n",
       "      <td>76.884344</td>\n",
       "      <td>77.151369</td>\n",
       "    </tr>\n",
       "    <tr>\n",
       "      <th>Ford High School</th>\n",
       "      <td>77.361345</td>\n",
       "      <td>77.672316</td>\n",
       "      <td>76.918058</td>\n",
       "      <td>76.179963</td>\n",
       "    </tr>\n",
       "    <tr>\n",
       "      <th>Griffin High School</th>\n",
       "      <td>82.044010</td>\n",
       "      <td>84.229064</td>\n",
       "      <td>83.842105</td>\n",
       "      <td>83.356164</td>\n",
       "    </tr>\n",
       "  </tbody>\n",
       "</table>\n",
       "</div>"
      ],
      "text/plain": [
       "                            9th       10th       11th       12th\n",
       "school_name                                                     \n",
       "Bailey High School    77.083676  76.996772  77.515588  76.492218\n",
       "Cabrera High School   83.094697  83.154506  82.765560  83.277487\n",
       "Figueroa High School  76.403037  76.539974  76.884344  77.151369\n",
       "Ford High School      77.361345  77.672316  76.918058  76.179963\n",
       "Griffin High School   82.044010  84.229064  83.842105  83.356164"
      ]
     },
     "execution_count": 58,
     "metadata": {},
     "output_type": "execute_result"
    }
   ],
   "source": [
    "m_grades = pd.DataFrame({\n",
    "        \"9th\": m_ninth_grade,\n",
    "        \"10th\": m_tenth_grade,\n",
    "        \"11th\": m_eleventh_grade,\n",
    "        \"12th\": m_twelfth_grade})\n",
    "m_grades.head()"
   ]
  },
  {
   "cell_type": "markdown",
   "metadata": {},
   "source": [
    "## Reading Score by Grade "
   ]
  },
  {
   "cell_type": "markdown",
   "metadata": {},
   "source": [
    "* Perform the same operations as above for reading scores"
   ]
  },
  {
   "cell_type": "code",
   "execution_count": 59,
   "metadata": {},
   "outputs": [
    {
     "data": {
      "text/html": [
       "<div>\n",
       "<style scoped>\n",
       "    .dataframe tbody tr th:only-of-type {\n",
       "        vertical-align: middle;\n",
       "    }\n",
       "\n",
       "    .dataframe tbody tr th {\n",
       "        vertical-align: top;\n",
       "    }\n",
       "\n",
       "    .dataframe thead th {\n",
       "        text-align: right;\n",
       "    }\n",
       "</style>\n",
       "<table border=\"1\" class=\"dataframe\">\n",
       "  <thead>\n",
       "    <tr style=\"text-align: right;\">\n",
       "      <th></th>\n",
       "      <th>9th</th>\n",
       "      <th>10th</th>\n",
       "      <th>11th</th>\n",
       "      <th>12th</th>\n",
       "    </tr>\n",
       "    <tr>\n",
       "      <th>school_name</th>\n",
       "      <th></th>\n",
       "      <th></th>\n",
       "      <th></th>\n",
       "      <th></th>\n",
       "    </tr>\n",
       "  </thead>\n",
       "  <tbody>\n",
       "    <tr>\n",
       "      <th>Bailey High School</th>\n",
       "      <td>81.303155</td>\n",
       "      <td>80.907183</td>\n",
       "      <td>80.945643</td>\n",
       "      <td>80.912451</td>\n",
       "    </tr>\n",
       "    <tr>\n",
       "      <th>Cabrera High School</th>\n",
       "      <td>83.676136</td>\n",
       "      <td>84.253219</td>\n",
       "      <td>83.788382</td>\n",
       "      <td>84.287958</td>\n",
       "    </tr>\n",
       "    <tr>\n",
       "      <th>Figueroa High School</th>\n",
       "      <td>81.198598</td>\n",
       "      <td>81.408912</td>\n",
       "      <td>80.640339</td>\n",
       "      <td>81.384863</td>\n",
       "    </tr>\n",
       "    <tr>\n",
       "      <th>Ford High School</th>\n",
       "      <td>80.632653</td>\n",
       "      <td>81.262712</td>\n",
       "      <td>80.403642</td>\n",
       "      <td>80.662338</td>\n",
       "    </tr>\n",
       "    <tr>\n",
       "      <th>Griffin High School</th>\n",
       "      <td>83.369193</td>\n",
       "      <td>83.706897</td>\n",
       "      <td>84.288089</td>\n",
       "      <td>84.013699</td>\n",
       "    </tr>\n",
       "  </tbody>\n",
       "</table>\n",
       "</div>"
      ],
      "text/plain": [
       "                            9th       10th       11th       12th\n",
       "school_name                                                     \n",
       "Bailey High School    81.303155  80.907183  80.945643  80.912451\n",
       "Cabrera High School   83.676136  84.253219  83.788382  84.287958\n",
       "Figueroa High School  81.198598  81.408912  80.640339  81.384863\n",
       "Ford High School      80.632653  81.262712  80.403642  80.662338\n",
       "Griffin High School   83.369193  83.706897  84.288089  84.013699"
      ]
     },
     "execution_count": 59,
     "metadata": {},
     "output_type": "execute_result"
    }
   ],
   "source": [
    "r_ninth_grade = student_data.loc[student_data[\"grade\"] == \"9th\"].groupby([\"school_name\"])[\"reading_score\"].mean()\n",
    "r_tenth_grade = student_data.loc[student_data[\"grade\"] == \"10th\"].groupby([\"school_name\"])[\"reading_score\"].mean()\n",
    "r_eleventh_grade = student_data.loc[student_data[\"grade\"] == \"11th\"].groupby([\"school_name\"])[\"reading_score\"].mean()\n",
    "r_twelfth_grade = student_data.loc[student_data[\"grade\"] == \"12th\"].groupby([\"school_name\"])[\"reading_score\"].mean()\n",
    "r_grades = pd.DataFrame({\n",
    "        \"9th\": r_ninth_grade,\n",
    "        \"10th\": r_tenth_grade,\n",
    "        \"11th\": r_eleventh_grade,\n",
    "        \"12th\": r_twelfth_grade})\n",
    "r_grades.head()"
   ]
  },
  {
   "cell_type": "markdown",
   "metadata": {},
   "source": [
    "## Scores by School Spending"
   ]
  },
  {
   "cell_type": "markdown",
   "metadata": {},
   "source": [
    "* Create a table that breaks down school performances based on average Spending Ranges (Per Student). Use 4 reasonable bins to group school spending. Include in the table each of the following:\n",
    "  * Average Math Score\n",
    "  * Average Reading Score\n",
    "  * % Passing Math\n",
    "  * % Passing Reading\n",
    "  * Overall Passing Rate (Average of the above two)"
   ]
  },
  {
   "cell_type": "code",
   "execution_count": 60,
   "metadata": {},
   "outputs": [
    {
     "data": {
      "text/html": [
       "<div>\n",
       "<style scoped>\n",
       "    .dataframe tbody tr th:only-of-type {\n",
       "        vertical-align: middle;\n",
       "    }\n",
       "\n",
       "    .dataframe tbody tr th {\n",
       "        vertical-align: top;\n",
       "    }\n",
       "\n",
       "    .dataframe thead th {\n",
       "        text-align: right;\n",
       "    }\n",
       "</style>\n",
       "<table border=\"1\" class=\"dataframe\">\n",
       "  <thead>\n",
       "    <tr style=\"text-align: right;\">\n",
       "      <th></th>\n",
       "      <th>Student ID</th>\n",
       "      <th>student_name</th>\n",
       "      <th>gender</th>\n",
       "      <th>grade</th>\n",
       "      <th>school_name</th>\n",
       "      <th>reading_score</th>\n",
       "      <th>math_score</th>\n",
       "      <th>School ID</th>\n",
       "      <th>type</th>\n",
       "      <th>size</th>\n",
       "      <th>budget</th>\n",
       "      <th>Spending Range</th>\n",
       "    </tr>\n",
       "  </thead>\n",
       "  <tbody>\n",
       "    <tr>\n",
       "      <th>0</th>\n",
       "      <td>0</td>\n",
       "      <td>Paul Bradley</td>\n",
       "      <td>M</td>\n",
       "      <td>9th</td>\n",
       "      <td>Huang High School</td>\n",
       "      <td>66</td>\n",
       "      <td>79</td>\n",
       "      <td>0</td>\n",
       "      <td>District</td>\n",
       "      <td>2917</td>\n",
       "      <td>1910635</td>\n",
       "      <td>$645-675</td>\n",
       "    </tr>\n",
       "    <tr>\n",
       "      <th>1</th>\n",
       "      <td>1</td>\n",
       "      <td>Victor Smith</td>\n",
       "      <td>M</td>\n",
       "      <td>12th</td>\n",
       "      <td>Huang High School</td>\n",
       "      <td>94</td>\n",
       "      <td>61</td>\n",
       "      <td>0</td>\n",
       "      <td>District</td>\n",
       "      <td>2917</td>\n",
       "      <td>1910635</td>\n",
       "      <td>$645-675</td>\n",
       "    </tr>\n",
       "    <tr>\n",
       "      <th>2</th>\n",
       "      <td>2</td>\n",
       "      <td>Kevin Rodriguez</td>\n",
       "      <td>M</td>\n",
       "      <td>12th</td>\n",
       "      <td>Huang High School</td>\n",
       "      <td>90</td>\n",
       "      <td>60</td>\n",
       "      <td>0</td>\n",
       "      <td>District</td>\n",
       "      <td>2917</td>\n",
       "      <td>1910635</td>\n",
       "      <td>$645-675</td>\n",
       "    </tr>\n",
       "    <tr>\n",
       "      <th>3</th>\n",
       "      <td>3</td>\n",
       "      <td>Dr. Richard Scott</td>\n",
       "      <td>M</td>\n",
       "      <td>12th</td>\n",
       "      <td>Huang High School</td>\n",
       "      <td>67</td>\n",
       "      <td>58</td>\n",
       "      <td>0</td>\n",
       "      <td>District</td>\n",
       "      <td>2917</td>\n",
       "      <td>1910635</td>\n",
       "      <td>$645-675</td>\n",
       "    </tr>\n",
       "    <tr>\n",
       "      <th>4</th>\n",
       "      <td>4</td>\n",
       "      <td>Bonnie Ray</td>\n",
       "      <td>F</td>\n",
       "      <td>9th</td>\n",
       "      <td>Huang High School</td>\n",
       "      <td>97</td>\n",
       "      <td>84</td>\n",
       "      <td>0</td>\n",
       "      <td>District</td>\n",
       "      <td>2917</td>\n",
       "      <td>1910635</td>\n",
       "      <td>$645-675</td>\n",
       "    </tr>\n",
       "  </tbody>\n",
       "</table>\n",
       "</div>"
      ],
      "text/plain": [
       "   Student ID       student_name gender grade        school_name  \\\n",
       "0           0       Paul Bradley      M   9th  Huang High School   \n",
       "1           1       Victor Smith      M  12th  Huang High School   \n",
       "2           2    Kevin Rodriguez      M  12th  Huang High School   \n",
       "3           3  Dr. Richard Scott      M  12th  Huang High School   \n",
       "4           4         Bonnie Ray      F   9th  Huang High School   \n",
       "\n",
       "   reading_score  math_score  School ID      type  size   budget  \\\n",
       "0             66          79          0  District  2917  1910635   \n",
       "1             94          61          0  District  2917  1910635   \n",
       "2             90          60          0  District  2917  1910635   \n",
       "3             67          58          0  District  2917  1910635   \n",
       "4             97          84          0  District  2917  1910635   \n",
       "\n",
       "  Spending Range  \n",
       "0       $645-675  \n",
       "1       $645-675  \n",
       "2       $645-675  \n",
       "3       $645-675  \n",
       "4       $645-675  "
      ]
     },
     "execution_count": 60,
     "metadata": {},
     "output_type": "execute_result"
    }
   ],
   "source": [
    "# Sample bins. Feel free to create your own bins.\n",
    "spending_bins = [0, 585, 615, 645, 675]\n",
    "group_names = [\"<$585\", \"$585-615\", \"$615-645\", \"$645-675\"]\n",
    "\n",
    "school_data_complete['Spending Range'] = pd.cut(school_data_complete['budget']/school_data_complete['size'], spending_bins\n",
    "                                                , labels = group_names)\n",
    "school_data_complete.head()"
   ]
  },
  {
   "cell_type": "code",
   "execution_count": 61,
   "metadata": {},
   "outputs": [
    {
     "data": {
      "text/html": [
       "<div>\n",
       "<style scoped>\n",
       "    .dataframe tbody tr th:only-of-type {\n",
       "        vertical-align: middle;\n",
       "    }\n",
       "\n",
       "    .dataframe tbody tr th {\n",
       "        vertical-align: top;\n",
       "    }\n",
       "\n",
       "    .dataframe thead th {\n",
       "        text-align: right;\n",
       "    }\n",
       "</style>\n",
       "<table border=\"1\" class=\"dataframe\">\n",
       "  <thead>\n",
       "    <tr style=\"text-align: right;\">\n",
       "      <th></th>\n",
       "      <th>Average Math</th>\n",
       "      <th>% Passing Math</th>\n",
       "      <th>Average Reading</th>\n",
       "      <th>% Passing Reading</th>\n",
       "      <th>% Overall</th>\n",
       "    </tr>\n",
       "    <tr>\n",
       "      <th>Spending Range</th>\n",
       "      <th></th>\n",
       "      <th></th>\n",
       "      <th></th>\n",
       "      <th></th>\n",
       "      <th></th>\n",
       "    </tr>\n",
       "  </thead>\n",
       "  <tbody>\n",
       "    <tr>\n",
       "      <th>&lt;$585</th>\n",
       "      <td>83.363065</td>\n",
       "      <td>0.937029</td>\n",
       "      <td>83.964039</td>\n",
       "      <td>0.966866</td>\n",
       "      <td>0.951947</td>\n",
       "    </tr>\n",
       "    <tr>\n",
       "      <th>$585-615</th>\n",
       "      <td>83.529196</td>\n",
       "      <td>0.941241</td>\n",
       "      <td>83.838414</td>\n",
       "      <td>0.958869</td>\n",
       "      <td>0.950055</td>\n",
       "    </tr>\n",
       "    <tr>\n",
       "      <th>$615-645</th>\n",
       "      <td>78.061635</td>\n",
       "      <td>0.714004</td>\n",
       "      <td>81.434088</td>\n",
       "      <td>0.836148</td>\n",
       "      <td>0.775076</td>\n",
       "    </tr>\n",
       "    <tr>\n",
       "      <th>$645-675</th>\n",
       "      <td>77.049297</td>\n",
       "      <td>0.662308</td>\n",
       "      <td>81.005604</td>\n",
       "      <td>0.811094</td>\n",
       "      <td>0.736701</td>\n",
       "    </tr>\n",
       "  </tbody>\n",
       "</table>\n",
       "</div>"
      ],
      "text/plain": [
       "                Average Math  % Passing Math  Average Reading  \\\n",
       "Spending Range                                                  \n",
       "<$585              83.363065        0.937029        83.964039   \n",
       "$585-615           83.529196        0.941241        83.838414   \n",
       "$615-645           78.061635        0.714004        81.434088   \n",
       "$645-675           77.049297        0.662308        81.005604   \n",
       "\n",
       "                % Passing Reading  % Overall  \n",
       "Spending Range                                \n",
       "<$585                    0.966866   0.951947  \n",
       "$585-615                 0.958869   0.950055  \n",
       "$615-645                 0.836148   0.775076  \n",
       "$645-675                 0.811094   0.736701  "
      ]
     },
     "execution_count": 61,
     "metadata": {},
     "output_type": "execute_result"
    }
   ],
   "source": [
    "grouped_df = school_data_complete.groupby('Spending Range')\n",
    "ave_m = grouped_df['math_score'].mean()\n",
    "ave_r = grouped_df['reading_score'].mean()\n",
    "pass_m = school_data_complete[school_data_complete['math_score'] >= 70].groupby('Spending Range')['Student ID'].count()/grouped_df['Student ID'].count()\n",
    "pass_r = school_data_complete[school_data_complete['reading_score'] >= 70].groupby('Spending Range')['Student ID'].count()/grouped_df['Student ID'].count()\n",
    "overall = (pass_m + pass_r)/2\n",
    "summary_table = pd.DataFrame({\"Average Math\": ave_m, \"% Passing Math\": pass_m, \"Average Reading\": ave_r, \"% Passing Reading\": pass_r, \"% Overall\": overall})\n",
    "summary_table.head()\n"
   ]
  },
  {
   "cell_type": "markdown",
   "metadata": {},
   "source": [
    "## Scores by School Size"
   ]
  },
  {
   "cell_type": "markdown",
   "metadata": {},
   "source": [
    "* Perform the same operations as above, based on school size."
   ]
  },
  {
   "cell_type": "code",
   "execution_count": 62,
   "metadata": {},
   "outputs": [
    {
     "data": {
      "text/html": [
       "<div>\n",
       "<style scoped>\n",
       "    .dataframe tbody tr th:only-of-type {\n",
       "        vertical-align: middle;\n",
       "    }\n",
       "\n",
       "    .dataframe tbody tr th {\n",
       "        vertical-align: top;\n",
       "    }\n",
       "\n",
       "    .dataframe thead th {\n",
       "        text-align: right;\n",
       "    }\n",
       "</style>\n",
       "<table border=\"1\" class=\"dataframe\">\n",
       "  <thead>\n",
       "    <tr style=\"text-align: right;\">\n",
       "      <th></th>\n",
       "      <th>Student ID</th>\n",
       "      <th>student_name</th>\n",
       "      <th>gender</th>\n",
       "      <th>grade</th>\n",
       "      <th>school_name</th>\n",
       "      <th>reading_score</th>\n",
       "      <th>math_score</th>\n",
       "      <th>School ID</th>\n",
       "      <th>type</th>\n",
       "      <th>size</th>\n",
       "      <th>budget</th>\n",
       "      <th>Spending Range</th>\n",
       "      <th>Size of School</th>\n",
       "    </tr>\n",
       "  </thead>\n",
       "  <tbody>\n",
       "    <tr>\n",
       "      <th>0</th>\n",
       "      <td>0</td>\n",
       "      <td>Paul Bradley</td>\n",
       "      <td>M</td>\n",
       "      <td>9th</td>\n",
       "      <td>Huang High School</td>\n",
       "      <td>66</td>\n",
       "      <td>79</td>\n",
       "      <td>0</td>\n",
       "      <td>District</td>\n",
       "      <td>2917</td>\n",
       "      <td>1910635</td>\n",
       "      <td>$645-675</td>\n",
       "      <td>Large (2000-5000)</td>\n",
       "    </tr>\n",
       "    <tr>\n",
       "      <th>1</th>\n",
       "      <td>1</td>\n",
       "      <td>Victor Smith</td>\n",
       "      <td>M</td>\n",
       "      <td>12th</td>\n",
       "      <td>Huang High School</td>\n",
       "      <td>94</td>\n",
       "      <td>61</td>\n",
       "      <td>0</td>\n",
       "      <td>District</td>\n",
       "      <td>2917</td>\n",
       "      <td>1910635</td>\n",
       "      <td>$645-675</td>\n",
       "      <td>Large (2000-5000)</td>\n",
       "    </tr>\n",
       "    <tr>\n",
       "      <th>2</th>\n",
       "      <td>2</td>\n",
       "      <td>Kevin Rodriguez</td>\n",
       "      <td>M</td>\n",
       "      <td>12th</td>\n",
       "      <td>Huang High School</td>\n",
       "      <td>90</td>\n",
       "      <td>60</td>\n",
       "      <td>0</td>\n",
       "      <td>District</td>\n",
       "      <td>2917</td>\n",
       "      <td>1910635</td>\n",
       "      <td>$645-675</td>\n",
       "      <td>Large (2000-5000)</td>\n",
       "    </tr>\n",
       "    <tr>\n",
       "      <th>3</th>\n",
       "      <td>3</td>\n",
       "      <td>Dr. Richard Scott</td>\n",
       "      <td>M</td>\n",
       "      <td>12th</td>\n",
       "      <td>Huang High School</td>\n",
       "      <td>67</td>\n",
       "      <td>58</td>\n",
       "      <td>0</td>\n",
       "      <td>District</td>\n",
       "      <td>2917</td>\n",
       "      <td>1910635</td>\n",
       "      <td>$645-675</td>\n",
       "      <td>Large (2000-5000)</td>\n",
       "    </tr>\n",
       "    <tr>\n",
       "      <th>4</th>\n",
       "      <td>4</td>\n",
       "      <td>Bonnie Ray</td>\n",
       "      <td>F</td>\n",
       "      <td>9th</td>\n",
       "      <td>Huang High School</td>\n",
       "      <td>97</td>\n",
       "      <td>84</td>\n",
       "      <td>0</td>\n",
       "      <td>District</td>\n",
       "      <td>2917</td>\n",
       "      <td>1910635</td>\n",
       "      <td>$645-675</td>\n",
       "      <td>Large (2000-5000)</td>\n",
       "    </tr>\n",
       "  </tbody>\n",
       "</table>\n",
       "</div>"
      ],
      "text/plain": [
       "   Student ID       student_name gender grade        school_name  \\\n",
       "0           0       Paul Bradley      M   9th  Huang High School   \n",
       "1           1       Victor Smith      M  12th  Huang High School   \n",
       "2           2    Kevin Rodriguez      M  12th  Huang High School   \n",
       "3           3  Dr. Richard Scott      M  12th  Huang High School   \n",
       "4           4         Bonnie Ray      F   9th  Huang High School   \n",
       "\n",
       "   reading_score  math_score  School ID      type  size   budget  \\\n",
       "0             66          79          0  District  2917  1910635   \n",
       "1             94          61          0  District  2917  1910635   \n",
       "2             90          60          0  District  2917  1910635   \n",
       "3             67          58          0  District  2917  1910635   \n",
       "4             97          84          0  District  2917  1910635   \n",
       "\n",
       "  Spending Range     Size of School  \n",
       "0       $645-675  Large (2000-5000)  \n",
       "1       $645-675  Large (2000-5000)  \n",
       "2       $645-675  Large (2000-5000)  \n",
       "3       $645-675  Large (2000-5000)  \n",
       "4       $645-675  Large (2000-5000)  "
      ]
     },
     "execution_count": 62,
     "metadata": {},
     "output_type": "execute_result"
    }
   ],
   "source": [
    "# Sample bins. Feel free to create your own bins.\n",
    "size_bins2 = [0, 1000, 2000, 5000]\n",
    "group_names2 = [\"Small (<1000)\", \"Medium (1000-2000)\", \"Large (2000-5000)\"]\n",
    "\n",
    "school_data_complete['Size of School'] = pd.cut(school_data_complete['size'], size_bins2\n",
    "                                                , labels = group_names2)\n",
    "school_data_complete.head()"
   ]
  },
  {
   "cell_type": "code",
   "execution_count": 63,
   "metadata": {},
   "outputs": [
    {
     "data": {
      "text/html": [
       "<div>\n",
       "<style scoped>\n",
       "    .dataframe tbody tr th:only-of-type {\n",
       "        vertical-align: middle;\n",
       "    }\n",
       "\n",
       "    .dataframe tbody tr th {\n",
       "        vertical-align: top;\n",
       "    }\n",
       "\n",
       "    .dataframe thead th {\n",
       "        text-align: right;\n",
       "    }\n",
       "</style>\n",
       "<table border=\"1\" class=\"dataframe\">\n",
       "  <thead>\n",
       "    <tr style=\"text-align: right;\">\n",
       "      <th></th>\n",
       "      <th>Average Math</th>\n",
       "      <th>% Passing Math</th>\n",
       "      <th>Average Reading</th>\n",
       "      <th>% Passing Reading</th>\n",
       "      <th>% Overall</th>\n",
       "    </tr>\n",
       "    <tr>\n",
       "      <th>Size of School</th>\n",
       "      <th></th>\n",
       "      <th></th>\n",
       "      <th></th>\n",
       "      <th></th>\n",
       "      <th></th>\n",
       "    </tr>\n",
       "  </thead>\n",
       "  <tbody>\n",
       "    <tr>\n",
       "      <th>Small (&lt;1000)</th>\n",
       "      <td>83.828654</td>\n",
       "      <td>0.939525</td>\n",
       "      <td>83.974082</td>\n",
       "      <td>0.960403</td>\n",
       "      <td>0.949964</td>\n",
       "    </tr>\n",
       "    <tr>\n",
       "      <th>Medium (1000-2000)</th>\n",
       "      <td>83.372682</td>\n",
       "      <td>0.936165</td>\n",
       "      <td>83.867989</td>\n",
       "      <td>0.967731</td>\n",
       "      <td>0.951948</td>\n",
       "    </tr>\n",
       "    <tr>\n",
       "      <th>Large (2000-5000)</th>\n",
       "      <td>77.477597</td>\n",
       "      <td>0.686524</td>\n",
       "      <td>81.198674</td>\n",
       "      <td>0.821252</td>\n",
       "      <td>0.753888</td>\n",
       "    </tr>\n",
       "  </tbody>\n",
       "</table>\n",
       "</div>"
      ],
      "text/plain": [
       "                    Average Math  % Passing Math  Average Reading  \\\n",
       "Size of School                                                      \n",
       "Small (<1000)          83.828654        0.939525        83.974082   \n",
       "Medium (1000-2000)     83.372682        0.936165        83.867989   \n",
       "Large (2000-5000)      77.477597        0.686524        81.198674   \n",
       "\n",
       "                    % Passing Reading  % Overall  \n",
       "Size of School                                    \n",
       "Small (<1000)                0.960403   0.949964  \n",
       "Medium (1000-2000)           0.967731   0.951948  \n",
       "Large (2000-5000)            0.821252   0.753888  "
      ]
     },
     "execution_count": 63,
     "metadata": {},
     "output_type": "execute_result"
    }
   ],
   "source": [
    "grouped_df2 = school_data_complete.groupby('Size of School')\n",
    "ave_m = grouped_df2['math_score'].mean()\n",
    "ave_r = grouped_df2['reading_score'].mean()\n",
    "pass_m = school_data_complete[school_data_complete['math_score'] >= 70].groupby('Size of School')['Student ID'].count()/grouped_df2['Student ID'].count()\n",
    "pass_r = school_data_complete[school_data_complete['reading_score'] >= 70].groupby('Size of School')['Student ID'].count()/grouped_df2['Student ID'].count()\n",
    "overall = (pass_m + pass_r)/2\n",
    "summary_table = pd.DataFrame({\"Average Math\": ave_m, \"% Passing Math\": pass_m, \"Average Reading\": ave_r, \"% Passing Reading\": pass_r, \"% Overall\": overall})\n",
    "summary_table.head()"
   ]
  },
  {
   "cell_type": "code",
   "execution_count": 66,
   "metadata": {},
   "outputs": [
    {
     "data": {
      "text/html": [
       "<div>\n",
       "<style scoped>\n",
       "    .dataframe tbody tr th:only-of-type {\n",
       "        vertical-align: middle;\n",
       "    }\n",
       "\n",
       "    .dataframe tbody tr th {\n",
       "        vertical-align: top;\n",
       "    }\n",
       "\n",
       "    .dataframe thead th {\n",
       "        text-align: right;\n",
       "    }\n",
       "</style>\n",
       "<table border=\"1\" class=\"dataframe\">\n",
       "  <thead>\n",
       "    <tr style=\"text-align: right;\">\n",
       "      <th></th>\n",
       "      <th>Student ID</th>\n",
       "      <th>student_name</th>\n",
       "      <th>gender</th>\n",
       "      <th>grade</th>\n",
       "      <th>school_name</th>\n",
       "      <th>reading_score</th>\n",
       "      <th>math_score</th>\n",
       "      <th>School ID</th>\n",
       "      <th>type</th>\n",
       "      <th>size</th>\n",
       "      <th>budget</th>\n",
       "      <th>Spending Range</th>\n",
       "      <th>Size of School</th>\n",
       "    </tr>\n",
       "  </thead>\n",
       "  <tbody>\n",
       "    <tr>\n",
       "      <th>0</th>\n",
       "      <td>0</td>\n",
       "      <td>Paul Bradley</td>\n",
       "      <td>M</td>\n",
       "      <td>9th</td>\n",
       "      <td>Huang High School</td>\n",
       "      <td>66</td>\n",
       "      <td>79</td>\n",
       "      <td>0</td>\n",
       "      <td>District</td>\n",
       "      <td>2917</td>\n",
       "      <td>1910635</td>\n",
       "      <td>$645-675</td>\n",
       "      <td>Large (2000-5000)</td>\n",
       "    </tr>\n",
       "    <tr>\n",
       "      <th>1</th>\n",
       "      <td>1</td>\n",
       "      <td>Victor Smith</td>\n",
       "      <td>M</td>\n",
       "      <td>12th</td>\n",
       "      <td>Huang High School</td>\n",
       "      <td>94</td>\n",
       "      <td>61</td>\n",
       "      <td>0</td>\n",
       "      <td>District</td>\n",
       "      <td>2917</td>\n",
       "      <td>1910635</td>\n",
       "      <td>$645-675</td>\n",
       "      <td>Large (2000-5000)</td>\n",
       "    </tr>\n",
       "    <tr>\n",
       "      <th>2</th>\n",
       "      <td>2</td>\n",
       "      <td>Kevin Rodriguez</td>\n",
       "      <td>M</td>\n",
       "      <td>12th</td>\n",
       "      <td>Huang High School</td>\n",
       "      <td>90</td>\n",
       "      <td>60</td>\n",
       "      <td>0</td>\n",
       "      <td>District</td>\n",
       "      <td>2917</td>\n",
       "      <td>1910635</td>\n",
       "      <td>$645-675</td>\n",
       "      <td>Large (2000-5000)</td>\n",
       "    </tr>\n",
       "    <tr>\n",
       "      <th>3</th>\n",
       "      <td>3</td>\n",
       "      <td>Dr. Richard Scott</td>\n",
       "      <td>M</td>\n",
       "      <td>12th</td>\n",
       "      <td>Huang High School</td>\n",
       "      <td>67</td>\n",
       "      <td>58</td>\n",
       "      <td>0</td>\n",
       "      <td>District</td>\n",
       "      <td>2917</td>\n",
       "      <td>1910635</td>\n",
       "      <td>$645-675</td>\n",
       "      <td>Large (2000-5000)</td>\n",
       "    </tr>\n",
       "    <tr>\n",
       "      <th>4</th>\n",
       "      <td>4</td>\n",
       "      <td>Bonnie Ray</td>\n",
       "      <td>F</td>\n",
       "      <td>9th</td>\n",
       "      <td>Huang High School</td>\n",
       "      <td>97</td>\n",
       "      <td>84</td>\n",
       "      <td>0</td>\n",
       "      <td>District</td>\n",
       "      <td>2917</td>\n",
       "      <td>1910635</td>\n",
       "      <td>$645-675</td>\n",
       "      <td>Large (2000-5000)</td>\n",
       "    </tr>\n",
       "  </tbody>\n",
       "</table>\n",
       "</div>"
      ],
      "text/plain": [
       "   Student ID       student_name gender grade        school_name  \\\n",
       "0           0       Paul Bradley      M   9th  Huang High School   \n",
       "1           1       Victor Smith      M  12th  Huang High School   \n",
       "2           2    Kevin Rodriguez      M  12th  Huang High School   \n",
       "3           3  Dr. Richard Scott      M  12th  Huang High School   \n",
       "4           4         Bonnie Ray      F   9th  Huang High School   \n",
       "\n",
       "   reading_score  math_score  School ID      type  size   budget  \\\n",
       "0             66          79          0  District  2917  1910635   \n",
       "1             94          61          0  District  2917  1910635   \n",
       "2             90          60          0  District  2917  1910635   \n",
       "3             67          58          0  District  2917  1910635   \n",
       "4             97          84          0  District  2917  1910635   \n",
       "\n",
       "  Spending Range     Size of School  \n",
       "0       $645-675  Large (2000-5000)  \n",
       "1       $645-675  Large (2000-5000)  \n",
       "2       $645-675  Large (2000-5000)  \n",
       "3       $645-675  Large (2000-5000)  \n",
       "4       $645-675  Large (2000-5000)  "
      ]
     },
     "execution_count": 66,
     "metadata": {},
     "output_type": "execute_result"
    }
   ],
   "source": [
    "school_data_complete.head()"
   ]
  },
  {
   "cell_type": "markdown",
   "metadata": {},
   "source": [
    "## Scores by School Type"
   ]
  },
  {
   "cell_type": "markdown",
   "metadata": {},
   "source": [
    "* Perform the same operations as above, based on school type."
   ]
  },
  {
   "cell_type": "code",
   "execution_count": 70,
   "metadata": {},
   "outputs": [
    {
     "data": {
      "text/html": [
       "<div>\n",
       "<style scoped>\n",
       "    .dataframe tbody tr th:only-of-type {\n",
       "        vertical-align: middle;\n",
       "    }\n",
       "\n",
       "    .dataframe tbody tr th {\n",
       "        vertical-align: top;\n",
       "    }\n",
       "\n",
       "    .dataframe thead th {\n",
       "        text-align: right;\n",
       "    }\n",
       "</style>\n",
       "<table border=\"1\" class=\"dataframe\">\n",
       "  <thead>\n",
       "    <tr style=\"text-align: right;\">\n",
       "      <th></th>\n",
       "      <th>Average Math</th>\n",
       "      <th>% Passing Math</th>\n",
       "      <th>Average Reading</th>\n",
       "      <th>% Passing Reading</th>\n",
       "      <th>% Overall</th>\n",
       "    </tr>\n",
       "    <tr>\n",
       "      <th>type</th>\n",
       "      <th></th>\n",
       "      <th></th>\n",
       "      <th></th>\n",
       "      <th></th>\n",
       "      <th></th>\n",
       "    </tr>\n",
       "  </thead>\n",
       "  <tbody>\n",
       "    <tr>\n",
       "      <th>Charter</th>\n",
       "      <td>83.406183</td>\n",
       "      <td>0.937018</td>\n",
       "      <td>83.902821</td>\n",
       "      <td>0.966459</td>\n",
       "      <td>0.951739</td>\n",
       "    </tr>\n",
       "    <tr>\n",
       "      <th>District</th>\n",
       "      <td>76.987026</td>\n",
       "      <td>0.665184</td>\n",
       "      <td>80.962485</td>\n",
       "      <td>0.809052</td>\n",
       "      <td>0.737118</td>\n",
       "    </tr>\n",
       "  </tbody>\n",
       "</table>\n",
       "</div>"
      ],
      "text/plain": [
       "          Average Math  % Passing Math  Average Reading  % Passing Reading  \\\n",
       "type                                                                         \n",
       "Charter      83.406183        0.937018        83.902821           0.966459   \n",
       "District     76.987026        0.665184        80.962485           0.809052   \n",
       "\n",
       "          % Overall  \n",
       "type                 \n",
       "Charter    0.951739  \n",
       "District   0.737118  "
      ]
     },
     "execution_count": 70,
     "metadata": {},
     "output_type": "execute_result"
    }
   ],
   "source": [
    "# group by type of school\n",
    "by_type = school_data_complete.groupby(\"type\")\n",
    "ave_m = by_type['math_score'].mean()\n",
    "ave_r = by_type['reading_score'].mean()\n",
    "pass_m = school_data_complete[school_data_complete['math_score'] >= 70].groupby('type')['Student ID'].count()/by_type['Student ID'].count()\n",
    "pass_r = school_data_complete[school_data_complete['reading_score'] >= 70].groupby('type')['Student ID'].count()/by_type['Student ID'].count()\n",
    "overall = (pass_m + pass_r)/2\n",
    "summary_table = pd.DataFrame({\"Average Math\": ave_m, \"% Passing Math\": pass_m, \"Average Reading\": ave_r, \"% Passing Reading\": pass_r, \"% Overall\": overall})\n",
    "summary_table.head()"
   ]
  },
  {
   "cell_type": "markdown",
   "metadata": {},
   "source": [
    "### THE END OF THE ASSIGNMENT"
   ]
  }
 ],
 "metadata": {
  "anaconda-cloud": {},
  "kernel_info": {
   "name": "python3"
  },
  "kernelspec": {
   "display_name": "Python 3",
   "language": "python",
   "name": "python3"
  },
  "language_info": {
   "codemirror_mode": {
    "name": "ipython",
    "version": 3
   },
   "file_extension": ".py",
   "mimetype": "text/x-python",
   "name": "python",
   "nbconvert_exporter": "python",
   "pygments_lexer": "ipython3",
   "version": "3.7.3"
  },
  "latex_envs": {
   "LaTeX_envs_menu_present": true,
   "autoclose": false,
   "autocomplete": true,
   "bibliofile": "biblio.bib",
   "cite_by": "apalike",
   "current_citInitial": 1,
   "eqLabelWithNumbers": true,
   "eqNumInitial": 1,
   "hotkeys": {
    "equation": "Ctrl-E",
    "itemize": "Ctrl-I"
   },
   "labels_anchors": false,
   "latex_user_defs": false,
   "report_style_numbering": false,
   "user_envs_cfg": false
  },
  "nteract": {
   "version": "0.8.4"
  }
 },
 "nbformat": 4,
 "nbformat_minor": 1
}
